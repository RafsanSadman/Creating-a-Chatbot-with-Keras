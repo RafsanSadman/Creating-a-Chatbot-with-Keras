{
  "nbformat": 4,
  "nbformat_minor": 0,
  "metadata": {
    "colab": {
      "name": "Creating a Chatbot with Keras.ipynb",
      "provenance": [],
      "collapsed_sections": []
    },
    "kernelspec": {
      "name": "python3",
      "display_name": "Python 3"
    }
  },
  "cells": [
    {
      "cell_type": "code",
      "metadata": {
        "id": "BG9O2bjKJweg",
        "colab_type": "code",
        "colab": {}
      },
      "source": [
        "\n",
        "#Library Imports\n",
        "import pickle\n",
        "import numpy as np"
      ],
      "execution_count": 0,
      "outputs": []
    },
    {
      "cell_type": "code",
      "metadata": {
        "id": "5rFiR0xRKRh6",
        "colab_type": "code",
        "colab": {}
      },
      "source": [
        "#retrieve training data\n",
        "with open('train_qa.txt', 'rb') as f:\n",
        "    train_data = pickle.load(f)\n"
      ],
      "execution_count": 0,
      "outputs": []
    },
    {
      "cell_type": "code",
      "metadata": {
        "id": "zlwTmezXKXzT",
        "colab_type": "code",
        "colab": {}
      },
      "source": [
        "#retrieve test data\n",
        "with open('test_qa.txt', 'rb') as f:\n",
        "    test_data = pickle.load(f)"
      ],
      "execution_count": 0,
      "outputs": []
    },
    {
      "cell_type": "code",
      "metadata": {
        "id": "eZRi1Bn0KZFk",
        "colab_type": "code",
        "colab": {
          "base_uri": "https://localhost:8080/",
          "height": 34
        },
        "outputId": "b2748a20-edfd-4488-f5c2-96ecc829875a"
      },
      "source": [
        "#Number of training instances\n",
        "len(train_data)"
      ],
      "execution_count": 5,
      "outputs": [
        {
          "output_type": "execute_result",
          "data": {
            "text/plain": [
              "10000"
            ]
          },
          "metadata": {
            "tags": []
          },
          "execution_count": 5
        }
      ]
    },
    {
      "cell_type": "code",
      "metadata": {
        "id": "ovHVIkM1KcXl",
        "colab_type": "code",
        "colab": {
          "base_uri": "https://localhost:8080/",
          "height": 34
        },
        "outputId": "581d3acc-77b7-4130-d0c8-4a49982353cc"
      },
      "source": [
        "#Number of test instances\n",
        "len(test_data)"
      ],
      "execution_count": 6,
      "outputs": [
        {
          "output_type": "execute_result",
          "data": {
            "text/plain": [
              "1000"
            ]
          },
          "metadata": {
            "tags": []
          },
          "execution_count": 6
        }
      ]
    },
    {
      "cell_type": "code",
      "metadata": {
        "id": "TRraqNWtKeuc",
        "colab_type": "code",
        "colab": {
          "base_uri": "https://localhost:8080/",
          "height": 272
        },
        "outputId": "5002aed4-06ac-4b63-9e68-6a8abf6f2327"
      },
      "source": [
        "\n",
        "#Example of one of the instances\n",
        "train_data[10]"
      ],
      "execution_count": 7,
      "outputs": [
        {
          "output_type": "execute_result",
          "data": {
            "text/plain": [
              "(['Sandra',\n",
              "  'went',\n",
              "  'back',\n",
              "  'to',\n",
              "  'the',\n",
              "  'hallway',\n",
              "  '.',\n",
              "  'Sandra',\n",
              "  'moved',\n",
              "  'to',\n",
              "  'the',\n",
              "  'office',\n",
              "  '.'],\n",
              " ['Is', 'Sandra', 'in', 'the', 'office', '?'],\n",
              " 'yes')"
            ]
          },
          "metadata": {
            "tags": []
          },
          "execution_count": 7
        }
      ]
    },
    {
      "cell_type": "code",
      "metadata": {
        "id": "5I5uuN-eKiOt",
        "colab_type": "code",
        "colab": {
          "base_uri": "https://localhost:8080/",
          "height": 34
        },
        "outputId": "3c1966f0-5e5d-45fd-9333-3a07de07604c"
      },
      "source": [
        "' '.join(train_data[10][0])\n"
      ],
      "execution_count": 8,
      "outputs": [
        {
          "output_type": "execute_result",
          "data": {
            "text/plain": [
              "'Sandra went back to the hallway . Sandra moved to the office .'"
            ]
          },
          "metadata": {
            "tags": []
          },
          "execution_count": 8
        }
      ]
    },
    {
      "cell_type": "code",
      "metadata": {
        "id": "sL9M7x_IKl8h",
        "colab_type": "code",
        "colab": {
          "base_uri": "https://localhost:8080/",
          "height": 34
        },
        "outputId": "61133f72-16ed-4e4b-8f64-06e1f3d382da"
      },
      "source": [
        "' '.join(train_data[10][1])\n"
      ],
      "execution_count": 9,
      "outputs": [
        {
          "output_type": "execute_result",
          "data": {
            "text/plain": [
              "'Is Sandra in the office ?'"
            ]
          },
          "metadata": {
            "tags": []
          },
          "execution_count": 9
        }
      ]
    },
    {
      "cell_type": "code",
      "metadata": {
        "id": "8AuP35lrKoTZ",
        "colab_type": "code",
        "colab": {
          "base_uri": "https://localhost:8080/",
          "height": 34
        },
        "outputId": "844f3c9f-6fad-4f99-db00-b0aa606fadce"
      },
      "source": [
        "train_data[10][2]\n"
      ],
      "execution_count": 10,
      "outputs": [
        {
          "output_type": "execute_result",
          "data": {
            "text/plain": [
              "'yes'"
            ]
          },
          "metadata": {
            "tags": []
          },
          "execution_count": 10
        }
      ]
    },
    {
      "cell_type": "code",
      "metadata": {
        "id": "s3VbuIz1KxEC",
        "colab_type": "code",
        "colab": {}
      },
      "source": [
        "#First we need to create a vocabulary with our data\n",
        "#For this we will use the training data only to - On the video it uses both\n",
        "#train and test \n",
        "#Might have to use training and test later, as the dataset has very\n",
        "#few words\n",
        "#First we will build a set of all the words in the dataset:\n",
        "vocab = set()\n",
        "for story, question, answer in train_data:\n",
        "    vocab = vocab.union(set(story)) #Set returns unique words in the sentence\n",
        "                                    #Union returns the unique common elements from a two sets\n",
        "    vocab = vocab.union(set(question))"
      ],
      "execution_count": 0,
      "outputs": []
    },
    {
      "cell_type": "code",
      "metadata": {
        "id": "Ojv5Gi3OK3MJ",
        "colab_type": "code",
        "colab": {}
      },
      "source": [
        "vocab.add('no')\n",
        "vocab.add('yes')"
      ],
      "execution_count": 0,
      "outputs": []
    },
    {
      "cell_type": "code",
      "metadata": {
        "id": "PyLKLch_K4_m",
        "colab_type": "code",
        "colab": {
          "base_uri": "https://localhost:8080/",
          "height": 646
        },
        "outputId": "5eff0e9f-86b5-4e65-9fdb-5b8041098688"
      },
      "source": [
        "vocab\n"
      ],
      "execution_count": 13,
      "outputs": [
        {
          "output_type": "execute_result",
          "data": {
            "text/plain": [
              "{'.',\n",
              " '?',\n",
              " 'Daniel',\n",
              " 'Is',\n",
              " 'John',\n",
              " 'Mary',\n",
              " 'Sandra',\n",
              " 'apple',\n",
              " 'back',\n",
              " 'bathroom',\n",
              " 'bedroom',\n",
              " 'discarded',\n",
              " 'down',\n",
              " 'dropped',\n",
              " 'football',\n",
              " 'garden',\n",
              " 'got',\n",
              " 'grabbed',\n",
              " 'hallway',\n",
              " 'in',\n",
              " 'journeyed',\n",
              " 'kitchen',\n",
              " 'left',\n",
              " 'milk',\n",
              " 'moved',\n",
              " 'no',\n",
              " 'office',\n",
              " 'picked',\n",
              " 'put',\n",
              " 'the',\n",
              " 'there',\n",
              " 'to',\n",
              " 'took',\n",
              " 'travelled',\n",
              " 'up',\n",
              " 'went',\n",
              " 'yes'}"
            ]
          },
          "metadata": {
            "tags": []
          },
          "execution_count": 13
        }
      ]
    },
    {
      "cell_type": "code",
      "metadata": {
        "id": "VNrZY8-nK6mt",
        "colab_type": "code",
        "colab": {}
      },
      "source": [
        "#Calculate len and add 1 for Keras placeholder - Placeholders are used to feed in the data to the network. \n",
        "#They need a data type, and have optional shape arguements.\n",
        "#They will be empty at first, and then the data will get fed into the placeholder\n",
        "vocab_len = len(vocab) + 1"
      ],
      "execution_count": 0,
      "outputs": []
    },
    {
      "cell_type": "code",
      "metadata": {
        "id": "MEsiDQrqK8xl",
        "colab_type": "code",
        "colab": {
          "base_uri": "https://localhost:8080/",
          "height": 34
        },
        "outputId": "93a69044-fb23-42af-a59b-bd3a88888d49"
      },
      "source": [
        "vocab_len\n"
      ],
      "execution_count": 15,
      "outputs": [
        {
          "output_type": "execute_result",
          "data": {
            "text/plain": [
              "38"
            ]
          },
          "metadata": {
            "tags": []
          },
          "execution_count": 15
        }
      ]
    },
    {
      "cell_type": "code",
      "metadata": {
        "id": "Xn-QI1p-LJ8I",
        "colab_type": "code",
        "colab": {}
      },
      "source": [
        "\n",
        "#Now we are going to calculate the longest story and the longest question\n",
        "#We need this for the Keras pad sequences. \n",
        "#Keras training layers expect all of the input to have the same length, so \n",
        "#we need to pad \n",
        "all_data = test_data + train_data"
      ],
      "execution_count": 0,
      "outputs": []
    },
    {
      "cell_type": "code",
      "metadata": {
        "id": "sHNw79f4K-wz",
        "colab_type": "code",
        "colab": {}
      },
      "source": [
        "all_story_lens = [len(data[0]) for data in all_data]\n",
        "max_story_len = (max(all_story_lens))\n",
        "max_question_len = max([len(data[1]) for data in all_data])\n"
      ],
      "execution_count": 0,
      "outputs": []
    },
    {
      "cell_type": "code",
      "metadata": {
        "id": "7cbaTXRKLP7e",
        "colab_type": "code",
        "colab": {
          "base_uri": "https://localhost:8080/",
          "height": 34
        },
        "outputId": "0af56b0d-168c-4df1-e644-7e902c39a157"
      },
      "source": [
        "#vectorization\n",
        "from keras.preprocessing.sequence import pad_sequences\n",
        "from keras.preprocessing.text import Tokenizer"
      ],
      "execution_count": 20,
      "outputs": [
        {
          "output_type": "stream",
          "text": [
            "Using TensorFlow backend.\n"
          ],
          "name": "stderr"
        }
      ]
    },
    {
      "cell_type": "code",
      "metadata": {
        "id": "2HQzi7ZTLd1x",
        "colab_type": "code",
        "colab": {}
      },
      "source": [
        "#Create an instance of the tokenizer object:\n",
        "tokenizer = Tokenizer(filters = [])\n",
        "tokenizer.fit_on_texts(vocab)"
      ],
      "execution_count": 0,
      "outputs": []
    },
    {
      "cell_type": "code",
      "metadata": {
        "id": "jjXazR5aLg_f",
        "colab_type": "code",
        "colab": {
          "base_uri": "https://localhost:8080/",
          "height": 34
        },
        "outputId": "548d5564-f272-45fb-899b-678c821ba2e4"
      },
      "source": [
        "tokenizer"
      ],
      "execution_count": 22,
      "outputs": [
        {
          "output_type": "execute_result",
          "data": {
            "text/plain": [
              "<keras_preprocessing.text.Tokenizer at 0x7fbaccd39cc0>"
            ]
          },
          "metadata": {
            "tags": []
          },
          "execution_count": 22
        }
      ]
    },
    {
      "cell_type": "code",
      "metadata": {
        "id": "RGQ9EcIlLjNq",
        "colab_type": "code",
        "colab": {
          "base_uri": "https://localhost:8080/",
          "height": 646
        },
        "outputId": "3d8fbeab-28db-47de-9136-300aa5b398f9"
      },
      "source": [
        "#Dictionary that maps every word in our vocab to an index\n",
        "# It has been automatically lowercased\n",
        "#This tokenizer can give different indexes for different words depending on when we run it\n",
        "tokenizer.word_index"
      ],
      "execution_count": 23,
      "outputs": [
        {
          "output_type": "execute_result",
          "data": {
            "text/plain": [
              "{'.': 1,\n",
              " '?': 27,\n",
              " 'apple': 36,\n",
              " 'back': 16,\n",
              " 'bathroom': 8,\n",
              " 'bedroom': 2,\n",
              " 'daniel': 20,\n",
              " 'discarded': 12,\n",
              " 'down': 23,\n",
              " 'dropped': 14,\n",
              " 'football': 4,\n",
              " 'garden': 30,\n",
              " 'got': 26,\n",
              " 'grabbed': 19,\n",
              " 'hallway': 34,\n",
              " 'in': 9,\n",
              " 'is': 15,\n",
              " 'john': 17,\n",
              " 'journeyed': 18,\n",
              " 'kitchen': 21,\n",
              " 'left': 24,\n",
              " 'mary': 7,\n",
              " 'milk': 25,\n",
              " 'moved': 29,\n",
              " 'no': 37,\n",
              " 'office': 22,\n",
              " 'picked': 32,\n",
              " 'put': 11,\n",
              " 'sandra': 6,\n",
              " 'the': 3,\n",
              " 'there': 35,\n",
              " 'to': 33,\n",
              " 'took': 5,\n",
              " 'travelled': 13,\n",
              " 'up': 10,\n",
              " 'went': 31,\n",
              " 'yes': 28}"
            ]
          },
          "metadata": {
            "tags": []
          },
          "execution_count": 23
        }
      ]
    },
    {
      "cell_type": "code",
      "metadata": {
        "id": "KnEydsw-Lzz6",
        "colab_type": "code",
        "colab": {}
      },
      "source": [
        ""
      ],
      "execution_count": 0,
      "outputs": []
    }
  ]
}